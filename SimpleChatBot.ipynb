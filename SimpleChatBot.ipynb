{
 "cells": [
  {
   "cell_type": "markdown",
   "metadata": {},
   "source": [
    "### <B>SIMPLE CHATBOT USING LANGGRAPH</B> \n",
    "\n",
    "This is a simple chatbot equipped with tool calling, persistent memory and human-in-the-loop-interactivity. Giving it also the capability to unwind changes if necessary and explore different outcomes by going back to previous states in graph using the checkpoints."
   ]
  },
  {
   "cell_type": "markdown",
   "metadata": {},
   "source": [
    "<b>Setting up the environment variables for language model and search tool</b>"
   ]
  },
  {
   "cell_type": "code",
   "execution_count": 3,
   "metadata": {},
   "outputs": [],
   "source": [
    "# Import the required packages here\n",
    "from dotenv import load_dotenv\n",
    "import os\n",
    "\n",
    "# Load the variables from the .env file into the environment\n",
    "load_dotenv()\n",
    "os.environ[\"GEMINI_API_KEY\"] = os.getenv(\"GEMINI_API_KEY\")\n",
    "os.environ[\"OPENAI_API_KEY\"] = os.getenv(\"OPENAI_API_KEY\")\n",
    "os.environ[\"COHERE_TRIAL_API_KEY\"] = os.getenv(\"COHERE_API_KEY\")\n",
    "os.environ[\"TAVILY_API_KEY\"] = os.getenv(\"TAVILY_API_KEY\")"
   ]
  },
  {
   "cell_type": "markdown",
   "metadata": {},
   "source": [
    "<b>Importing Necessary Libraries</b> "
   ]
  },
  {
   "cell_type": "code",
   "execution_count": 5,
   "metadata": {},
   "outputs": [],
   "source": [
    "from langgraph.checkpoint.memory import MemorySaver\n",
    "from typing import Annotated\n",
    "from typing_extensions import TypedDict\n",
    "\n",
    "from langchain_community.tools.tavily_search import TavilySearchResults\n",
    "from langchain_cohere import ChatCohere\n",
    "from langchain_core.messages import BaseMessage\n",
    "\n",
    "from langgraph.graph import StateGraph\n",
    "from langgraph.graph.message import add_messages\n",
    "from langgraph.prebuilt import ToolNode, tools_condition\n",
    "\n",
    "from langchain_core.pydantic_v1 import BaseModel\n",
    "from langchain_core.messages import ToolMessage, AIMessage"
   ]
  },
  {
   "cell_type": "markdown",
   "metadata": {},
   "source": [
    "<b>Building Our Agent Logic In Graph Form</b>"
   ]
  },
  {
   "cell_type": "code",
   "execution_count": 21,
   "metadata": {},
   "outputs": [],
   "source": [
    "# We define the state of the graph which is the expected input and output to every node in graph\n",
    "class State(TypedDict):\n",
    "    messages: Annotated[list, add_messages]\n",
    "    ask_human: bool     \n",
    "\n",
    "# Inheriting from Pydantic BaseModel making it available as tool to be used by llm in case the llm needs human assistance\n",
    "class RequestAssistance(BaseModel):\n",
    "    request: str        \n",
    "\n",
    "# llm is also given a search tool so that it can give answers even if the query is not in its training data\n",
    "# this also helps in reducing hallucination somewhat\n",
    "tool = TavilySearchResults(max_results=2)\n",
    "tools = [tool]              \n",
    "llm = ChatCohere()\n",
    "\n",
    "# bind llm with the above defined tools\n",
    "llm_with_tools = llm.bind_tools(tools + [RequestAssistance])\n",
    "\n",
    "# defining the chatbot node \n",
    "def chatbot(state: State):\n",
    "    response = llm_with_tools.invoke(state[\"messages\"])\n",
    "    ask_human = False\n",
    "\n",
    "    if(response.tool_calls and response.tool_calls[0][\"name\"] == RequestAssistance.__name__):\n",
    "        ask_human = True\n",
    "        return {\"messages\": [response], \"ask_human\": ask_human}\n",
    "\n",
    "# Use Stategraph to build graph\n",
    "graph_builder = StateGraph(State)\n",
    "graph_builder.add_node(\"chatbot\", chatbot)\n",
    "graph_builder.add_node(\"tools\", ToolNode(tools=[tool]))\n",
    "\n",
    "# In case a human assistance was called we need to return human response in format which the llm expects upon a tool call.\n",
    "def create_response(response: str, ai_message: AIMessage):\n",
    "    return ToolMessage(content=response, tool_call_id=ai_message.tool_calls[0][\"id\"],)\n",
    "\n",
    "# human node this simply sends back us back to chatbot node\n",
    "def human_node(state: State):\n",
    "    new_messages = []\n",
    "    if not isinstance(state[\"messages\"][-1], ToolMessage):\n",
    "        new_messages.append(create_response(\"No human response\", state[\"messages\"][-1]))\n",
    "    \n",
    "    return {\"messages\": new_messages, \"ask_human\": False}\n",
    "\n",
    "graph_builder.add_node(\"human\", human_node)\n",
    "\n",
    "# Encoding the logic for conditional edge which decides whether to go to human, search bar or end the conversation.\n",
    "def select_next_node(state: State):\n",
    "    if state[\"ask_human\"]:\n",
    "        return  \"human\"\n",
    "    return tools_condition(state)\n",
    "\n",
    "graph_builder.add_conditional_edges(\"chatbot\", select_next_node, {\"human\": \"human\", \"tools\": \"tools\", \"__end__\": \"__end__\"})\n",
    "\n",
    "# adding the normal edges\n",
    "graph_builder.add_edge(\"human\", \"chatbot\")\n",
    "graph_builder.add_edge(\"tools\", \"chatbot\")\n",
    "graph_builder.set_entry_point(\"chatbot\")\n",
    "\n",
    "# while compiling we provide the memory where to save, we can use Sqlite or PostgresServer \n",
    "memory = MemorySaver()\n",
    "graph = graph_builder.compile(checkpointer=memory, interrupt_before=[\"human\"])      # manual interrupt before human"
   ]
  },
  {
   "cell_type": "markdown",
   "metadata": {},
   "source": [
    "After interrupting execution, expert can mnually update the state of graph using <b>\"update_state()\"</b> function, after which we can resume the eecution."
   ]
  },
  {
   "cell_type": "markdown",
   "metadata": {},
   "source": [
    "<b>Displaying Graph Topology</b>"
   ]
  },
  {
   "cell_type": "code",
   "execution_count": 22,
   "metadata": {},
   "outputs": [
    {
     "data": {
      "image/jpeg": "[encoded data removed]",
      "text/plain": [
       "<IPython.core.display.Image object>"
      ]
     },
     "metadata": {},
     "output_type": "display_data"
    }
   ],
   "source": [
    "from IPython.display import Image, display\n",
    "\n",
    "try:\n",
    "    display(Image(graph.get_graph().draw_mermaid_png()))\n",
    "except Exception:\n",
    "    pass"
   ]
  },
  {
   "cell_type": "markdown",
   "metadata": {},
   "source": [
    "<b>Inferencing Our Logic</b>"
   ]
  },
  {
   "cell_type": "code",
   "execution_count": 23,
   "metadata": {},
   "outputs": [
    {
     "name": "stdout",
     "output_type": "stream",
     "text": [
      "================================\u001b[1m Human Message \u001b[0m=================================\n",
      "\n",
      "Seek some expert advice for how to learn langgraph\n",
      "==================================\u001b[1m Ai Message \u001b[0m==================================\n",
      "\n",
      "I will ask an expert for advice on how to learn langgraph.\n",
      "Tool Calls:\n",
      "  RequestAssistance (8d548d9b254041a7aba6ae6183dd35e9)\n",
      " Call ID: 8d548d9b254041a7aba6ae6183dd35e9\n",
      "  Args:\n",
      "    request: How can I learn langgraph?\n"
     ]
    }
   ],
   "source": [
    "user_input = \"Seek some expert advice for how to learn langgraph\"\n",
    "config = {\"configurable\": {\"thread_id\": \"1\"}}\n",
    "events = graph.stream({\"messages\": [(\"user\", user_input)]}, config, stream_mode=\"values\")\n",
    "\n",
    "for event in events:\n",
    "    if \"messages\" in event:\n",
    "        event[\"messages\"][-1].pretty_print()"
   ]
  },
  {
   "cell_type": "markdown",
   "metadata": {},
   "source": [
    "<b>Confirming our graph current state</b>"
   ]
  },
  {
   "cell_type": "code",
   "execution_count": 24,
   "metadata": {},
   "outputs": [
    {
     "data": {
      "text/plain": [
       "('human',)"
      ]
     },
     "execution_count": 24,
     "metadata": {},
     "output_type": "execute_result"
    }
   ],
   "source": [
    "snapshot = graph.get_state(config)\n",
    "snapshot.next"
   ]
  },
  {
   "cell_type": "markdown",
   "metadata": {},
   "source": [
    "<b>We act as an expert and send back a tool message</b>"
   ]
  },
  {
   "cell_type": "markdown",
   "metadata": {},
   "source": [
    "Tool message because request assistance is also used as a tool."
   ]
  },
  {
   "cell_type": "code",
   "execution_count": 25,
   "metadata": {},
   "outputs": [
    {
     "data": {
      "text/plain": [
       "{'configurable': {'thread_id': '1',\n",
       "  'checkpoint_ns': '',\n",
       "  'checkpoint_id': '1ef7269c-143c-6611-8002-e4b3023c6bae'}}"
      ]
     },
     "execution_count": 25,
     "metadata": {},
     "output_type": "execute_result"
    }
   ],
   "source": [
    "ai_message = snapshot.values[\"messages\"][-1]\n",
    "human_response = (\"Experts: Checkout the documentation\")\n",
    "\n",
    "# passing ai_message is compulsory to keep track of tool id\n",
    "tool_message = create_response(human_response, ai_message)\n",
    "graph.update_state(config, {\"messages\": [tool_message]})"
   ]
  },
  {
   "cell_type": "code",
   "execution_count": 26,
   "metadata": {},
   "outputs": [
    {
     "data": {
      "text/plain": [
       "[HumanMessage(content='Seek some expert advice for how to learn langgraph', id='fa132580-95d4-4f56-9742-f4970d2582a3'),\n",
       " AIMessage(content='I will ask an expert for advice on how to learn langgraph.', additional_kwargs={'documents': None, 'citations': None, 'search_results': None, 'search_queries': None, 'is_search_required': None, 'generation_id': '9d6c19ff-fd50-44e6-bc71-2d2fccfb6da8', 'tool_calls': [{'id': '9d2142ca4881442db0aa71b4a0ac0877', 'function': {'name': 'RequestAssistance', 'arguments': '{\"request\": \"How can I learn langgraph?\"}'}, 'type': 'function'}], 'token_count': {'input_tokens': 965.0, 'output_tokens': 61.0}}, response_metadata={'documents': None, 'citations': None, 'search_results': None, 'search_queries': None, 'is_search_required': None, 'generation_id': '9d6c19ff-fd50-44e6-bc71-2d2fccfb6da8', 'tool_calls': [{'id': '9d2142ca4881442db0aa71b4a0ac0877', 'function': {'name': 'RequestAssistance', 'arguments': '{\"request\": \"How can I learn langgraph?\"}'}, 'type': 'function'}], 'token_count': {'input_tokens': 965.0, 'output_tokens': 61.0}}, id='run-e63a12a7-0162-44c1-b994-4d7a2391f39a-0', tool_calls=[{'name': 'RequestAssistance', 'args': {'request': 'How can I learn langgraph?'}, 'id': '8d548d9b254041a7aba6ae6183dd35e9', 'type': 'tool_call'}], usage_metadata={'input_tokens': 965, 'output_tokens': 61, 'total_tokens': 1026}),\n",
       " ToolMessage(content='Experts: Checkout the documentation', id='7f8002d9-333d-462f-89d8-3713c41d0d5d', tool_call_id='8d548d9b254041a7aba6ae6183dd35e9')]"
      ]
     },
     "execution_count": 26,
     "metadata": {},
     "output_type": "execute_result"
    }
   ],
   "source": [
    "graph.get_state(config).values[\"messages\"]"
   ]
  },
  {
   "cell_type": "markdown",
   "metadata": {},
   "source": [
    "Next, resume the graph by invoking it with <b>None</b> as the inputs."
   ]
  },
  {
   "cell_type": "code",
   "execution_count": 27,
   "metadata": {},
   "outputs": [
    {
     "name": "stdout",
     "output_type": "stream",
     "text": [
      "=================================\u001b[1m Tool Message \u001b[0m=================================\n",
      "\n",
      "Experts: Checkout the documentation\n"
     ]
    }
   ],
   "source": [
    "events = graph.stream(None, config, stream_mode=\"values\")\n",
    "for event in events:\n",
    "    if \"messages\" in event:\n",
    "        event[\"messages\"][-1].pretty_print()"
   ]
  }
 ],
 "metadata": {
  "kernelspec": {
   "display_name": "new_env",
   "language": "python",
   "name": "python3"
  },
  "language_info": {
   "codemirror_mode": {
    "name": "ipython",
    "version": 3
   },
   "file_extension": ".py",
   "mimetype": "text/x-python",
   "name": "python",
   "nbconvert_exporter": "python",
   "pygments_lexer": "ipython3",
   "version": "3.9.2rc1"
  }
 },
 "nbformat": 4,
 "nbformat_minor": 2
}
